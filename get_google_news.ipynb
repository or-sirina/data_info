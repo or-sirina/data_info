{
 "cells": [
  {
   "cell_type": "code",
   "execution_count": 15,
   "id": "74dd8a4b-17ad-48be-a637-41cfa6a74a93",
   "metadata": {},
   "outputs": [],
   "source": [
    "from gnews import GNews as gn\n",
    "import json\n",
    "import pandas as pd"
   ]
  },
  {
   "cell_type": "code",
   "execution_count": 16,
   "id": "99afe09a-5bdb-4ace-bfb1-24866510a3aa",
   "metadata": {},
   "outputs": [],
   "source": [
    "news = gn()"
   ]
  },
  {
   "cell_type": "code",
   "execution_count": null,
   "id": "e7cd5e74-040f-4a01-8f65-fddcc1a6415c",
   "metadata": {},
   "outputs": [],
   "source": [
    "#news = GNews(language='en', country='US', period='7d', \n",
    "             #start_date=None, end_date=None, max_results=10, exclude_websites=['yahoo.com', 'cnn.com'], proxy=proxy)"
   ]
  },
  {
   "cell_type": "code",
   "execution_count": 17,
   "id": "bea0f01e-cfb3-4266-b852-0c7da2f4af2c",
   "metadata": {},
   "outputs": [],
   "source": [
    "# News from last 7 days\n",
    "news.period = '30d'\n",
    "\n",
    "# number of responses across a keyword\n",
    "#news.max_results = 10\n",
    "\n",
    "# News from a specific country\n",
    "news.country = 'United States'\n",
    "\n",
    "# News in a specific language\n",
    "news.language = 'english'\n",
    "\n",
    "# Exclude news from specific website i.e Yahoo.com and CNN.com\n",
    "#news.exclude_websites = ['yahoo.com', 'cnn.com']\n",
    "\n",
    "# Search from 1st Jan 2020\n",
    "#news.start_date = (2020, 1, 1)\n",
    "\n",
    "# Search until 1st March 2020\n",
    "#news.end_date = (2020, 3, 1)"
   ]
  },
  {
   "cell_type": "code",
   "execution_count": 18,
   "id": "6e9d5514-264f-4083-9687-9881f60adcb4",
   "metadata": {},
   "outputs": [],
   "source": [
    "trump_news = news.get_news('Trump')"
   ]
  },
  {
   "cell_type": "code",
   "execution_count": 19,
   "id": "26f9eb73-0057-4178-859d-0dc67f9eb80d",
   "metadata": {},
   "outputs": [],
   "source": [
    "trump_data = pd.DataFrame()\n",
    "for i in range(len(trump_news)):\n",
    "    data = pd.DataFrame.from_dict(trump_news[i])\n",
    "    frames = [trump_data, data]\n",
    "    trump_data = pd.concat(frames)"
   ]
  },
  {
   "cell_type": "code",
   "execution_count": 20,
   "id": "e027c4e6-c33d-4fcf-a87c-fdebfa66a231",
   "metadata": {},
   "outputs": [
    {
     "data": {
      "text/html": [
       "<div>\n",
       "<style scoped>\n",
       "    .dataframe tbody tr th:only-of-type {\n",
       "        vertical-align: middle;\n",
       "    }\n",
       "\n",
       "    .dataframe tbody tr th {\n",
       "        vertical-align: top;\n",
       "    }\n",
       "\n",
       "    .dataframe thead th {\n",
       "        text-align: right;\n",
       "    }\n",
       "</style>\n",
       "<table border=\"1\" class=\"dataframe\">\n",
       "  <thead>\n",
       "    <tr style=\"text-align: right;\">\n",
       "      <th></th>\n",
       "      <th>title</th>\n",
       "      <th>description</th>\n",
       "      <th>published date</th>\n",
       "      <th>url</th>\n",
       "      <th>publisher</th>\n",
       "    </tr>\n",
       "  </thead>\n",
       "  <tbody>\n",
       "    <tr>\n",
       "      <th>count</th>\n",
       "      <td>166</td>\n",
       "      <td>166</td>\n",
       "      <td>166</td>\n",
       "      <td>166</td>\n",
       "      <td>166</td>\n",
       "    </tr>\n",
       "    <tr>\n",
       "      <th>unique</th>\n",
       "      <td>83</td>\n",
       "      <td>83</td>\n",
       "      <td>73</td>\n",
       "      <td>83</td>\n",
       "      <td>44</td>\n",
       "    </tr>\n",
       "    <tr>\n",
       "      <th>top</th>\n",
       "      <td>Exclusive | Grateful, defiant Trump recounts s...</td>\n",
       "      <td>Exclusive | Grateful, defiant Trump recounts s...</td>\n",
       "      <td>Fri, 28 Jun 2024 07:00:00 GMT</td>\n",
       "      <td>https://news.google.com/rss/articles/CBMihAFod...</td>\n",
       "      <td>https://apnews.com</td>\n",
       "    </tr>\n",
       "    <tr>\n",
       "      <th>freq</th>\n",
       "      <td>2</td>\n",
       "      <td>2</td>\n",
       "      <td>8</td>\n",
       "      <td>2</td>\n",
       "      <td>24</td>\n",
       "    </tr>\n",
       "  </tbody>\n",
       "</table>\n",
       "</div>"
      ],
      "text/plain": [
       "                                                    title  \\\n",
       "count                                                 166   \n",
       "unique                                                 83   \n",
       "top     Exclusive | Grateful, defiant Trump recounts s...   \n",
       "freq                                                    2   \n",
       "\n",
       "                                              description  \\\n",
       "count                                                 166   \n",
       "unique                                                 83   \n",
       "top     Exclusive | Grateful, defiant Trump recounts s...   \n",
       "freq                                                    2   \n",
       "\n",
       "                       published date  \\\n",
       "count                             166   \n",
       "unique                             73   \n",
       "top     Fri, 28 Jun 2024 07:00:00 GMT   \n",
       "freq                                8   \n",
       "\n",
       "                                                      url           publisher  \n",
       "count                                                 166                 166  \n",
       "unique                                                 83                  44  \n",
       "top     https://news.google.com/rss/articles/CBMihAFod...  https://apnews.com  \n",
       "freq                                                    2                  24  "
      ]
     },
     "execution_count": 20,
     "metadata": {},
     "output_type": "execute_result"
    }
   ],
   "source": [
    "trump_data.describe()"
   ]
  },
  {
   "cell_type": "code",
   "execution_count": 39,
   "id": "5dfa9986-7c6a-474a-8449-d5e8e299cd27",
   "metadata": {},
   "outputs": [
    {
     "data": {
      "text/plain": [
       "['Donald',\n",
       " 'Trump',\n",
       " 'Jr.',\n",
       " 'and',\n",
       " 'Eric',\n",
       " 'Trump',\n",
       " 'react',\n",
       " 'to',\n",
       " 'assassination',\n",
       " 'attempt',\n",
       " 'CNN']"
      ]
     },
     "execution_count": 39,
     "metadata": {},
     "output_type": "execute_result"
    }
   ],
   "source": [
    "trump_data['description'].iloc[10].split()"
   ]
  },
  {
   "cell_type": "code",
   "execution_count": null,
   "id": "1881def3-01ac-4e26-b022-57d72a3e6a67",
   "metadata": {},
   "outputs": [],
   "source": []
  }
 ],
 "metadata": {
  "kernelspec": {
   "display_name": "Python 3 (ipykernel)",
   "language": "python",
   "name": "python3"
  },
  "language_info": {
   "codemirror_mode": {
    "name": "ipython",
    "version": 3
   },
   "file_extension": ".py",
   "mimetype": "text/x-python",
   "name": "python",
   "nbconvert_exporter": "python",
   "pygments_lexer": "ipython3",
   "version": "3.12.4"
  }
 },
 "nbformat": 4,
 "nbformat_minor": 5
}
